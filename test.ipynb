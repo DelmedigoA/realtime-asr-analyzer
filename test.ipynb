{
  "nbformat": 4,
  "nbformat_minor": 0,
  "metadata": {
    "colab": {
      "provenance": [],
      "gpuType": "A100"
    },
    "kernelspec": {
      "name": "python3",
      "display_name": "Python 3"
    },
    "language_info": {
      "name": "python"
    },
    "accelerator": "GPU"
  },
  "cells": [
    {
      "cell_type": "code",
      "source": [
        "!git clone https://github.com/DelmedigoA/realtime-asr-analyzer.git\n",
        "!git clone https://github.com/ufal/whisper_streaming.git"
      ],
      "metadata": {
        "id": "Qt-kZ17q4l6-"
      },
      "execution_count": null,
      "outputs": []
    },
    {
      "cell_type": "code",
      "source": [
        "!hf download ivrit-ai/whisper-large-v3-ct2 --local-dir /content/realtime-asr-analyzer/whisper_dir"
      ],
      "metadata": {
        "id": "i6iosrDlQtDI"
      },
      "execution_count": null,
      "outputs": []
    },
    {
      "cell_type": "code",
      "source": [
        "%cd /content/realtime-asr-analyzer/\n",
        "!pip install -r requirements.txt"
      ],
      "metadata": {
        "id": "lLFVuBV_4gDt"
      },
      "execution_count": null,
      "outputs": []
    },
    {
      "cell_type": "code",
      "source": [
        "%cd /content/realtime-asr-analyzer/\n",
        "import random\n",
        "import asyncio\n",
        "from src.simulation import simulation\n",
        "\n",
        "dict_state = {\n",
        "              \"first_name\": None,\n",
        "              \"last_name\": None,\n",
        "              \"id\": None,\n",
        "              \"full_address\": None,\n",
        "              \"contract_start_date_in_date_format\": None,\n",
        "              \"apartment_size_sq\": None,\n",
        "              \"amount_paid\": None,\n",
        "              \"currency\": None\n",
        "              }\n",
        "\n",
        "# Shuffle and rebuild\n",
        "items = list(dict_state.items())\n",
        "random.shuffle(items)\n",
        "dict_state_random = dict(items)\n",
        "\n",
        "wav = \"shar-dira.wav\"\n",
        "await simulation(wav=wav, dict_state=dict_state_random, min_chunk=1)"
      ],
      "metadata": {
        "id": "cOqRj-26Qe1P"
      },
      "execution_count": null,
      "outputs": []
    }
  ]
}